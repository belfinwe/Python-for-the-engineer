{
 "cells": [
  {
   "cell_type": "code",
   "execution_count": 2,
   "metadata": {},
   "outputs": [],
   "source": [
    "import pandas as pd"
   ]
  },
  {
   "cell_type": "code",
   "execution_count": 4,
   "metadata": {},
   "outputs": [
    {
     "ename": "error",
     "evalue": "OpenCV(4.8.1) D:\\a\\opencv-python\\opencv-python\\opencv\\modules\\imgproc\\src\\color.cpp:182: error: (-215:Assertion failed) !_src.empty() in function 'cv::cvtColor'\n",
     "output_type": "error",
     "traceback": [
      "\u001b[1;31m---------------------------------------------------------------------------\u001b[0m",
      "\u001b[1;31merror\u001b[0m                                     Traceback (most recent call last)",
      "\u001b[1;32md:\\Mine dokumenter\\devbench\\blank_project\\dag2_del1_oppgave1.ipynb Cell 2\u001b[0m line \u001b[0;36m1\n\u001b[0;32m     <a href='vscode-notebook-cell:/d%3A/Mine%20dokumenter/devbench/blank_project/dag2_del1_oppgave1.ipynb#W1sZmlsZQ%3D%3D?line=11'>12</a>\u001b[0m faceCascade \u001b[39m=\u001b[39m cv2\u001b[39m.\u001b[39mCascadeClassifier(cascPath) \u001b[39m# Load the cascade into memory.\u001b[39;00m\n\u001b[0;32m     <a href='vscode-notebook-cell:/d%3A/Mine%20dokumenter/devbench/blank_project/dag2_del1_oppgave1.ipynb#W1sZmlsZQ%3D%3D?line=13'>14</a>\u001b[0m face_image_kode24 \u001b[39m=\u001b[39m cv2\u001b[39m.\u001b[39mimread(\u001b[39m\"\u001b[39m\u001b[39m/kode24_meta_og_google.jpg\u001b[39m\u001b[39m\"\u001b[39m) \u001b[39m# cv2 read in BGR format.\u001b[39;00m\n\u001b[1;32m---> <a href='vscode-notebook-cell:/d%3A/Mine%20dokumenter/devbench/blank_project/dag2_del1_oppgave1.ipynb#W1sZmlsZQ%3D%3D?line=14'>15</a>\u001b[0m gray_face_image_kode24 \u001b[39m=\u001b[39m cv2\u001b[39m.\u001b[39;49mcvtColor(face_image_kode24, cv2\u001b[39m.\u001b[39;49mCOLOR_BGR2GRAY)\n\u001b[0;32m     <a href='vscode-notebook-cell:/d%3A/Mine%20dokumenter/devbench/blank_project/dag2_del1_oppgave1.ipynb#W1sZmlsZQ%3D%3D?line=16'>17</a>\u001b[0m kode24_faces \u001b[39m=\u001b[39m faceCascade\u001b[39m.\u001b[39mdetectMultiScale(\n\u001b[0;32m     <a href='vscode-notebook-cell:/d%3A/Mine%20dokumenter/devbench/blank_project/dag2_del1_oppgave1.ipynb#W1sZmlsZQ%3D%3D?line=17'>18</a>\u001b[0m     gray_face_image_kode24,\n\u001b[0;32m     <a href='vscode-notebook-cell:/d%3A/Mine%20dokumenter/devbench/blank_project/dag2_del1_oppgave1.ipynb#W1sZmlsZQ%3D%3D?line=18'>19</a>\u001b[0m     scaleFactor\u001b[39m=\u001b[39m\u001b[39m1.1\u001b[39m,\n\u001b[1;32m   (...)\u001b[0m\n\u001b[0;32m     <a href='vscode-notebook-cell:/d%3A/Mine%20dokumenter/devbench/blank_project/dag2_del1_oppgave1.ipynb#W1sZmlsZQ%3D%3D?line=21'>22</a>\u001b[0m     flags \u001b[39m=\u001b[39m cv2\u001b[39m.\u001b[39mCASCADE_SCALE_IMAGE\n\u001b[0;32m     <a href='vscode-notebook-cell:/d%3A/Mine%20dokumenter/devbench/blank_project/dag2_del1_oppgave1.ipynb#W1sZmlsZQ%3D%3D?line=22'>23</a>\u001b[0m )\n\u001b[0;32m     <a href='vscode-notebook-cell:/d%3A/Mine%20dokumenter/devbench/blank_project/dag2_del1_oppgave1.ipynb#W1sZmlsZQ%3D%3D?line=24'>25</a>\u001b[0m \u001b[39m# Draw a rectangle around the faces\u001b[39;00m\n",
      "\u001b[1;31merror\u001b[0m: OpenCV(4.8.1) D:\\a\\opencv-python\\opencv-python\\opencv\\modules\\imgproc\\src\\color.cpp:182: error: (-215:Assertion failed) !_src.empty() in function 'cv::cvtColor'\n"
     ]
    }
   ],
   "source": [
    "import cv2 # pip install opencv-python-headless or conda install opencv \n",
    "from matplotlib import pyplot as plt\n",
    "\n",
    "# Due to jupyters architecture we can not use cv2.imshow() so we create a helper method to utilize pyplot.\n",
    "def show_image(image, title):\n",
    "    plt.imshow(image)\n",
    "    plt.title(title)\n",
    "    plt.show()\n",
    "\n",
    "# Create the haar cascade\n",
    "cascPath = \"haarcascade_frontalface_default.xml\" # Just an xml file that contains data about a face.\n",
    "faceCascade = cv2.CascadeClassifier(cascPath) # Load the cascade into memory.\n",
    "\n",
    "face_image_kode24 = cv2.imread(\"/kode24_meta_og_google.jpg\") # cv2 read in BGR format.\n",
    "gray_face_image_kode24 = cv2.cvtColor(face_image_kode24, cv2.COLOR_BGR2GRAY)\n",
    "\n",
    "kode24_faces = faceCascade.detectMultiScale(\n",
    "    gray_face_image_kode24,\n",
    "    scaleFactor=1.1,\n",
    "    minNeighbors=1,  # Endra den her, då endra det seg kor mange fjes den fant\n",
    "    minSize=(30, 30),\n",
    "    flags = cv2.CASCADE_SCALE_IMAGE\n",
    ")\n",
    "\n",
    "# Draw a rectangle around the faces\n",
    "print(kode24_faces)\n",
    "for (x, y, w, h) in kode24_faces:\n",
    "    cv2.rectangle(face_image_kode24, (x, y), (x+w, y+h), (0, 255, 0), 1)\n",
    "\n",
    "show_image(cv2.cvtColor(face_image_kode24, cv2.COLOR_BGR2RGB), \"Number of faces found = %s\" % len(kode24_faces))\n",
    "show_image(cv2.cvtColor(gray_face_image_kode24, cv2.COLOR_BGR2RGB), \"Greyscale...\")"
   ]
  },
  {
   "cell_type": "code",
   "execution_count": null,
   "metadata": {},
   "outputs": [],
   "source": []
  }
 ],
 "metadata": {
  "kernelspec": {
   "display_name": ".venv",
   "language": "python",
   "name": "python3"
  },
  "language_info": {
   "codemirror_mode": {
    "name": "ipython",
    "version": 3
   },
   "file_extension": ".py",
   "mimetype": "text/x-python",
   "name": "python",
   "nbconvert_exporter": "python",
   "pygments_lexer": "ipython3",
   "version": "3.9.13"
  }
 },
 "nbformat": 4,
 "nbformat_minor": 2
}
